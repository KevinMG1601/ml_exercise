{
 "cells": [
  {
   "cell_type": "markdown",
   "id": "027fed27",
   "metadata": {},
   "source": [
    "# ***Training Model***"
   ]
  },
  {
   "cell_type": "markdown",
   "id": "f660065b",
   "metadata": {},
   "source": [
    "## **Required Libraries**"
   ]
  },
  {
   "cell_type": "code",
   "execution_count": 40,
   "id": "ac609770",
   "metadata": {},
   "outputs": [],
   "source": [
    "import pandas as pd\n",
    "import numpy as np\n",
    "import matplotlib.pyplot as plt\n",
    "import seaborn as sns\n",
    "from sklearn.model_selection import train_test_split\n",
    "from sklearn.preprocessing import LabelEncoder, StandardScaler\n",
    "from sklearn.linear_model import LogisticRegression\n",
    "from sklearn.ensemble import RandomForestClassifier, GradientBoostingClassifier\n",
    "from sklearn.neighbors import KNeighborsClassifier\n",
    "from sklearn.tree import DecisionTreeClassifier\n",
    "from sklearn.metrics import accuracy_score, precision_score, recall_score, f1_score, roc_auc_score, confusion_matrix\n",
    "from xgboost import XGBClassifier\n",
    "import joblib"
   ]
  },
  {
   "cell_type": "markdown",
   "id": "530a062b",
   "metadata": {},
   "source": [
    "## **Read Data**"
   ]
  },
  {
   "cell_type": "code",
   "execution_count": 35,
   "id": "b4c3c1ae",
   "metadata": {},
   "outputs": [],
   "source": [
    "csv_clean = '../data/MLA_100k_clean.csv'\n",
    "df = pd.read_csv(csv_clean)"
   ]
  },
  {
   "cell_type": "code",
   "execution_count": 7,
   "id": "db3ff01b",
   "metadata": {},
   "outputs": [
    {
     "data": {
      "text/html": [
       "<div>\n",
       "<style scoped>\n",
       "    .dataframe tbody tr th:only-of-type {\n",
       "        vertical-align: middle;\n",
       "    }\n",
       "\n",
       "    .dataframe tbody tr th {\n",
       "        vertical-align: top;\n",
       "    }\n",
       "\n",
       "    .dataframe thead th {\n",
       "        text-align: right;\n",
       "    }\n",
       "</style>\n",
       "<table border=\"1\" class=\"dataframe\">\n",
       "  <thead>\n",
       "    <tr style=\"text-align: right;\">\n",
       "      <th></th>\n",
       "      <th>condition</th>\n",
       "      <th>listing_type_id</th>\n",
       "      <th>price</th>\n",
       "      <th>buying_mode</th>\n",
       "      <th>accepts_mercadopago</th>\n",
       "      <th>automatic_relist</th>\n",
       "      <th>status</th>\n",
       "      <th>initial_quantity</th>\n",
       "      <th>available_quantity</th>\n",
       "      <th>free_shipping</th>\n",
       "      <th>mode</th>\n",
       "      <th>local_pick_up</th>\n",
       "    </tr>\n",
       "  </thead>\n",
       "  <tbody>\n",
       "    <tr>\n",
       "      <th>0</th>\n",
       "      <td>new</td>\n",
       "      <td>bronze</td>\n",
       "      <td>80.0</td>\n",
       "      <td>buy_it_now</td>\n",
       "      <td>True</td>\n",
       "      <td>False</td>\n",
       "      <td>active</td>\n",
       "      <td>1</td>\n",
       "      <td>1</td>\n",
       "      <td>False</td>\n",
       "      <td>not_specified</td>\n",
       "      <td>True</td>\n",
       "    </tr>\n",
       "    <tr>\n",
       "      <th>1</th>\n",
       "      <td>used</td>\n",
       "      <td>silver</td>\n",
       "      <td>2650.0</td>\n",
       "      <td>buy_it_now</td>\n",
       "      <td>True</td>\n",
       "      <td>False</td>\n",
       "      <td>active</td>\n",
       "      <td>1</td>\n",
       "      <td>1</td>\n",
       "      <td>False</td>\n",
       "      <td>me2</td>\n",
       "      <td>True</td>\n",
       "    </tr>\n",
       "    <tr>\n",
       "      <th>2</th>\n",
       "      <td>used</td>\n",
       "      <td>bronze</td>\n",
       "      <td>60.0</td>\n",
       "      <td>buy_it_now</td>\n",
       "      <td>True</td>\n",
       "      <td>False</td>\n",
       "      <td>active</td>\n",
       "      <td>1</td>\n",
       "      <td>1</td>\n",
       "      <td>False</td>\n",
       "      <td>me2</td>\n",
       "      <td>True</td>\n",
       "    </tr>\n",
       "    <tr>\n",
       "      <th>3</th>\n",
       "      <td>new</td>\n",
       "      <td>silver</td>\n",
       "      <td>580.0</td>\n",
       "      <td>buy_it_now</td>\n",
       "      <td>True</td>\n",
       "      <td>False</td>\n",
       "      <td>active</td>\n",
       "      <td>1</td>\n",
       "      <td>1</td>\n",
       "      <td>False</td>\n",
       "      <td>me2</td>\n",
       "      <td>True</td>\n",
       "    </tr>\n",
       "    <tr>\n",
       "      <th>4</th>\n",
       "      <td>used</td>\n",
       "      <td>bronze</td>\n",
       "      <td>30.0</td>\n",
       "      <td>buy_it_now</td>\n",
       "      <td>True</td>\n",
       "      <td>False</td>\n",
       "      <td>active</td>\n",
       "      <td>1</td>\n",
       "      <td>1</td>\n",
       "      <td>False</td>\n",
       "      <td>not_specified</td>\n",
       "      <td>True</td>\n",
       "    </tr>\n",
       "  </tbody>\n",
       "</table>\n",
       "</div>"
      ],
      "text/plain": [
       "  condition listing_type_id   price buying_mode  accepts_mercadopago  \\\n",
       "0       new          bronze    80.0  buy_it_now                 True   \n",
       "1      used          silver  2650.0  buy_it_now                 True   \n",
       "2      used          bronze    60.0  buy_it_now                 True   \n",
       "3       new          silver   580.0  buy_it_now                 True   \n",
       "4      used          bronze    30.0  buy_it_now                 True   \n",
       "\n",
       "   automatic_relist  status  initial_quantity  available_quantity  \\\n",
       "0             False  active                 1                   1   \n",
       "1             False  active                 1                   1   \n",
       "2             False  active                 1                   1   \n",
       "3             False  active                 1                   1   \n",
       "4             False  active                 1                   1   \n",
       "\n",
       "   free_shipping           mode  local_pick_up  \n",
       "0          False  not_specified           True  \n",
       "1          False            me2           True  \n",
       "2          False            me2           True  \n",
       "3          False            me2           True  \n",
       "4          False  not_specified           True  "
      ]
     },
     "execution_count": 7,
     "metadata": {},
     "output_type": "execute_result"
    }
   ],
   "source": [
    "df.head(5)"
   ]
  },
  {
   "cell_type": "code",
   "execution_count": 8,
   "id": "2ff486cd",
   "metadata": {},
   "outputs": [
    {
     "name": "stdout",
     "output_type": "stream",
     "text": [
      "<class 'pandas.core.frame.DataFrame'>\n",
      "RangeIndex: 99372 entries, 0 to 99371\n",
      "Data columns (total 12 columns):\n",
      " #   Column               Non-Null Count  Dtype  \n",
      "---  ------               --------------  -----  \n",
      " 0   condition            99372 non-null  object \n",
      " 1   listing_type_id      99372 non-null  object \n",
      " 2   price                99372 non-null  float64\n",
      " 3   buying_mode          99372 non-null  object \n",
      " 4   accepts_mercadopago  99372 non-null  bool   \n",
      " 5   automatic_relist     99372 non-null  bool   \n",
      " 6   status               99372 non-null  object \n",
      " 7   initial_quantity     99372 non-null  int64  \n",
      " 8   available_quantity   99372 non-null  int64  \n",
      " 9   free_shipping        99372 non-null  bool   \n",
      " 10  mode                 99372 non-null  object \n",
      " 11  local_pick_up        99372 non-null  bool   \n",
      "dtypes: bool(4), float64(1), int64(2), object(5)\n",
      "memory usage: 6.4+ MB\n"
     ]
    }
   ],
   "source": [
    "df.info()"
   ]
  },
  {
   "cell_type": "code",
   "execution_count": 10,
   "id": "dc004de7",
   "metadata": {},
   "outputs": [
    {
     "data": {
      "text/plain": [
       "Index(['condition', 'listing_type_id', 'price', 'buying_mode',\n",
       "       'accepts_mercadopago', 'automatic_relist', 'status', 'initial_quantity',\n",
       "       'available_quantity', 'free_shipping', 'mode', 'local_pick_up'],\n",
       "      dtype='object')"
      ]
     },
     "execution_count": 10,
     "metadata": {},
     "output_type": "execute_result"
    }
   ],
   "source": [
    "initial_df = df.columns\n",
    "df.columns"
   ]
  },
  {
   "cell_type": "markdown",
   "id": "a0dddf34",
   "metadata": {},
   "source": [
    "## **Model Creation**"
   ]
  },
  {
   "cell_type": "markdown",
   "id": "3a4ae66c",
   "metadata": {},
   "source": [
    "For this case we will replace the **“condition”** column with the new and used values by 0 and 1.\n",
    "* used = 0\n",
    "* new = 1"
   ]
  },
  {
   "cell_type": "code",
   "execution_count": 36,
   "id": "ebed3304",
   "metadata": {},
   "outputs": [],
   "source": [
    "le = LabelEncoder()\n",
    "df['condition'] = le.fit_transform(df['condition'])"
   ]
  },
  {
   "cell_type": "code",
   "execution_count": 37,
   "id": "91e38a05",
   "metadata": {},
   "outputs": [],
   "source": [
    "df = pd.get_dummies(df, columns=['listing_type_id', 'buying_mode', 'status', 'mode'])"
   ]
  },
  {
   "cell_type": "code",
   "execution_count": 38,
   "id": "e1ecca38",
   "metadata": {},
   "outputs": [
    {
     "data": {
      "image/png": "[encoded data removed]",
      "text/plain": [
       "<Figure size 640x480 with 1 Axes>"
      ]
     },
     "metadata": {},
     "output_type": "display_data"
    }
   ],
   "source": [
    "conteo_valores = df['condition'].value_counts()\n",
    "\n",
    "conteo_valores.plot(kind='bar')\n",
    "\n",
    "plt.xlabel('Categorias')\n",
    "plt.ylabel('Frecuencia')\n",
    "plt.title('Grafica de barras de la columna condicion')\n",
    "plt.xticks(ticks=[0, 1], labels=['Usado', 'Nuevo'])\n",
    "\n",
    "plt.show()"
   ]
  },
  {
   "cell_type": "markdown",
   "id": "6d6375d4",
   "metadata": {},
   "source": [
    "## **Training And Testing**"
   ]
  },
  {
   "cell_type": "code",
   "execution_count": 52,
   "id": "57c0721d",
   "metadata": {},
   "outputs": [
    {
     "name": "stdout",
     "output_type": "stream",
     "text": [
      "\n",
      "========== Logistic Regression ==========\n",
      "Accuracy : 0.7335\n",
      "Precision: 0.9038\n",
      "Recall   : 0.4771\n",
      "F1-Score : 0.6245\n",
      "Roc-Auc : 0.7165\n",
      "\n",
      "========== Random Forest ==========\n",
      "Accuracy : 0.8212\n",
      "Precision: 0.7762\n",
      "Recall   : 0.8643\n",
      "F1-Score : 0.8179\n",
      "Roc-Auc : 0.8240\n",
      "\n",
      "========== Decision Tree ==========\n",
      "Accuracy : 0.8191\n",
      "Precision: 0.7778\n",
      "Recall   : 0.8549\n",
      "F1-Score : 0.8145\n",
      "Roc-Auc : 0.8215\n"
     ]
    },
    {
     "name": "stderr",
     "output_type": "stream",
     "text": [
      "c:\\Users\\kevin\\Github\\ml_exercise\\venv\\Lib\\site-packages\\xgboost\\training.py:183: UserWarning: [23:27:42] WARNING: C:\\actions-runner\\_work\\xgboost\\xgboost\\src\\learner.cc:738: \n",
      "Parameters: { \"use_label_encoder\" } are not used.\n",
      "\n",
      "  bst.update(dtrain, iteration=i, fobj=obj)\n"
     ]
    },
    {
     "name": "stdout",
     "output_type": "stream",
     "text": [
      "\n",
      "========== XGBoost ==========\n",
      "Accuracy : 0.8300\n",
      "Precision: 0.8059\n",
      "Recall   : 0.8353\n",
      "F1-Score : 0.8203\n",
      "Roc-Auc : 0.8303\n",
      "\n",
      "========== Gradient Boosting ==========\n",
      "Accuracy : 0.8212\n",
      "Precision: 0.8097\n",
      "Recall   : 0.8041\n",
      "F1-Score : 0.8069\n",
      "Roc-Auc : 0.8200\n",
      "\n",
      "========== KNN ==========\n",
      "Accuracy : 0.8064\n",
      "Precision: 0.7820\n",
      "Recall   : 0.8088\n",
      "F1-Score : 0.7952\n",
      "Roc-Auc : 0.8066\n"
     ]
    }
   ],
   "source": [
    "X = df.drop('condition', axis=1)\n",
    "y = df['condition']\n",
    "\n",
    "if y.dtype == 'object':\n",
    "    y = LabelEncoder().fit_transform(y)\n",
    "\n",
    "scaler = StandardScaler()\n",
    "X_scaled = scaler.fit_transform(X)\n",
    "\n",
    "X_train, X_test, y_train, y_test = train_test_split(\n",
    "    X_scaled, y, test_size=0.2, random_state=42, stratify=y\n",
    ")\n",
    "\n",
    "models = {\n",
    "    'Logistic Regression': LogisticRegression(max_iter=1000, random_state=42),\n",
    "    'Random Forest': RandomForestClassifier(n_estimators=100, random_state=42),\n",
    "    'Decision Tree': DecisionTreeClassifier(random_state=42),\n",
    "    'XGBoost': XGBClassifier(eval_metric='mlogloss', use_label_encoder=False, random_state=42),\n",
    "    'Gradient Boosting': GradientBoostingClassifier(random_state=42),\n",
    "    'KNN': KNeighborsClassifier(n_neighbors=5)\n",
    "}\n",
    "\n",
    "for name, model in models.items():\n",
    "    model.fit(X_train, y_train)\n",
    "    y_pred = model.predict(X_test)\n",
    "\n",
    "    print(f\"\\n========== {name} ==========\")\n",
    "    print(f\"Accuracy : {accuracy_score(y_test, y_pred):.4f}\")\n",
    "    print(f\"Precision: {precision_score(y_test, y_pred):.4f}\")\n",
    "    print(f\"Recall   : {recall_score(y_test, y_pred):.4f}\")\n",
    "    print(f\"F1-Score : {f1_score(y_test, y_pred):.4f}\")\n",
    "    print(f\"Roc-Auc : {roc_auc_score(y_test, y_pred):.4f}\")"
   ]
  },
  {
   "cell_type": "markdown",
   "id": "57487312",
   "metadata": {},
   "source": [
    "The **XGBoost** model proved to be the most effective classifier for predicting whether a product is new or used. Among all evaluated models, it achieved the highest F1-Score (0.8203), demonstrating the best balance between precision and recall.\n"
   ]
  },
  {
   "cell_type": "code",
   "execution_count": 49,
   "id": "5430a60f",
   "metadata": {},
   "outputs": [
    {
     "name": "stderr",
     "output_type": "stream",
     "text": [
      "c:\\Users\\kevin\\Github\\ml_exercise\\venv\\Lib\\site-packages\\xgboost\\training.py:183: UserWarning: [23:25:50] WARNING: C:\\actions-runner\\_work\\xgboost\\xgboost\\src\\learner.cc:738: \n",
      "Parameters: { \"use_label_encoder\" } are not used.\n",
      "\n",
      "  bst.update(dtrain, iteration=i, fobj=obj)\n"
     ]
    },
    {
     "data": {
      "image/png": "[encoded data removed]",
      "text/plain": [
       "<Figure size 600x400 with 2 Axes>"
      ]
     },
     "metadata": {},
     "output_type": "display_data"
    }
   ],
   "source": [
    "best_model = XGBClassifier(eval_metric='mlogloss', random_state=42, use_label_encoder=False)\n",
    "best_model.fit(X_train, y_train)\n",
    "\n",
    "y_pred = best_model.predict(X_test)\n",
    "\n",
    "cm = confusion_matrix(y_test, y_pred)\n",
    "\n",
    "plt.figure(figsize=(6, 4))\n",
    "sns.heatmap(cm, annot=True, fmt='d', cmap='GnBu',\n",
    "            xticklabels=['Used', 'New'],\n",
    "            yticklabels=['Used', 'New'])\n",
    "plt.title('Confusion Matrix (XGBoost)')\n",
    "plt.xlabel('Predicted')\n",
    "plt.ylabel('Actual')\n",
    "plt.show()"
   ]
  },
  {
   "cell_type": "code",
   "execution_count": 63,
   "id": "4b9bf09b",
   "metadata": {},
   "outputs": [
    {
     "data": {
      "image/png": "[encoded data removed]",
      "text/plain": [
       "<Figure size 1000x600 with 1 Axes>"
      ]
     },
     "metadata": {},
     "output_type": "display_data"
    }
   ],
   "source": [
    "rf = RandomForestClassifier(n_estimators=100, random_state=42)\n",
    "rf.fit(X_train, y_train)\n",
    "\n",
    "importances = rf.feature_importances_\n",
    "\n",
    "feature_importance_df = pd.DataFrame({\n",
    "    'Feature': X.columns,\n",
    "    'Importance': importances\n",
    "})\n",
    "\n",
    "feature_importance_df = feature_importance_df[feature_importance_df['Feature'].isin(initial_df)]\n",
    "feature_importance_df = feature_importance_df.sort_values(by='Importance', ascending=False)\n",
    "\n",
    "plt.figure(figsize=(10, 6))\n",
    "sns.barplot(x='Importance', y='Feature', data=feature_importance_df)\n",
    "plt.title('Feature Importances (Initial Columns)')\n",
    "plt.xlabel('Importance')\n",
    "plt.ylabel('Feature')\n",
    "plt.show()"
   ]
  },
  {
   "cell_type": "markdown",
   "id": "8e1d6cfe",
   "metadata": {},
   "source": [
    "## **Save Model**"
   ]
  },
  {
   "cell_type": "code",
   "execution_count": 64,
   "id": "58688a1a",
   "metadata": {},
   "outputs": [
    {
     "name": "stdout",
     "output_type": "stream",
     "text": [
      "Modelo guardado exitosamente\n"
     ]
    }
   ],
   "source": [
    "rf = RandomForestClassifier(n_estimators=100, random_state=42)\n",
    "rf.fit(X_train, y_train)\n",
    "\n",
    "joblib.dump(rf, '../model/XGBoost.pkl')\n",
    "print(\"Modelo guardado exitosamente\")"
   ]
  }
 ],
 "metadata": {
  "kernelspec": {
   "display_name": "venv",
   "language": "python",
   "name": "python3"
  },
  "language_info": {
   "codemirror_mode": {
    "name": "ipython",
    "version": 3
   },
   "file_extension": ".py",
   "mimetype": "text/x-python",
   "name": "python",
   "nbconvert_exporter": "python",
   "pygments_lexer": "ipython3",
   "version": "3.13.2"
  }
 },
 "nbformat": 4,
 "nbformat_minor": 5
}
